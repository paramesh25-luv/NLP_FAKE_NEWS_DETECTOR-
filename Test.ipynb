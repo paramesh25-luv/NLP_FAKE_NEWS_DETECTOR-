a=int(input("Enter a number:"))
b=int(input("Enter second number:"))
if(a==b):
  print("a is greater than b")
else:
  print("b is greater than a")
