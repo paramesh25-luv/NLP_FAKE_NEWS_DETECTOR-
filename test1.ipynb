{
 "cells": [
  {
   "cell_type": "code",
   "execution_count": null,
   "id": "20f40fad",
   "metadata": {},
   "outputs": [],
   "source": [
    "print(\"Parameshdurai\")"
   ]
  }
 ],
 "metadata": {
  "language_info": {
   "name": "python"
  }
 },
 "nbformat": 4,
 "nbformat_minor": 5
}
